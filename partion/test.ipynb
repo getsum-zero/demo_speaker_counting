{
 "cells": [
  {
   "cell_type": "code",
   "execution_count": 21,
   "metadata": {},
   "outputs": [
    {
     "name": "stdout",
     "output_type": "stream",
     "text": [
      "6.513568451402625\n",
      "1\n",
      "2\n",
      "3\n",
      "3\n",
      "2\n",
      "2\n",
      "3\n",
      "3\n",
      "1\n",
      "2\n",
      "1\n",
      "2\n",
      "1\n",
      "0\n",
      "3\n",
      "3\n",
      "0\n",
      "0\n",
      "3\n",
      "3\n",
      "3\n",
      "3\n",
      "3\n",
      "3\n",
      "1\n",
      "3\n",
      "3\n",
      "1\n",
      "3\n",
      "3\n",
      "0\n",
      "3\n",
      "1\n",
      "0\n",
      "3\n",
      "1\n",
      "1\n",
      "[0.03483292 0.02396084 0.01565401 ... 0.         0.         0.        ]\n"
     ]
    }
   ],
   "source": [
    "import os\n",
    "import argparse\n",
    "import soundfile as sf\n",
    "import pandas as pd\n",
    "import numpy as np\n",
    "import functools\n",
    "from scipy.signal import resample_poly\n",
    "import tqdm.contrib.concurrent\n",
    "import random\n",
    "\n",
    "def get_list_from_csv(row, column, n_src):\n",
    "    \"\"\" Transform a list in the .csv in an actual python list \"\"\"\n",
    "    python_list = []\n",
    "    for i in range(n_src):\n",
    "        current_column = column.split('_')\n",
    "        current_column.insert(1, str(i + 1))\n",
    "        current_column = '_'.join(current_column)\n",
    "        python_list.append(row[current_column])\n",
    "    return python_list\n",
    "\n",
    "\n",
    "md_file = pd.read_csv(\"metadata/LibriMix/librimix_test-clean.csv\", engine='python')\n",
    "row = md_file.iloc[0]\n",
    "sources_path_list = get_list_from_csv(row, 'source_path', 3)\n",
    "gain_list = get_list_from_csv(row, 'source_gain', 3)\n",
    "sources_list = []\n",
    "for sources_path in sources_path_list:\n",
    "    source, _ = sf.read(sources_path, dtype='float32')\n",
    "    sources_list.append(source)\n",
    "\n",
    "\n",
    "noise_path = row['noise_path']\n",
    "noise, _ = sf.read(noise_path, dtype='float32', start=row['noise_l_endpoint'], stop=row['noise_r_endpoint'])\n",
    "if len(noise.shape) > 1:   noise = noise[:, 0]\n",
    "\n",
    "sources_list.append(noise)\n",
    "gain_list.append(row['noise_gain'])\n",
    "\n",
    "print(row[\"SNR\"])\n",
    "\n",
    "from create_dataset_from_metadata import transform_sources, mix\n",
    "transformed_sources = transform_sources(sources_list, 16000, 'min', gain_list)\n",
    "\n",
    "# print(len(transformed_sources))\n",
    "# mixture = mix(transformed_sources, normalize=True)\n",
    "\n",
    "mixture = np.zeros_like(transformed_sources[0])\n",
    "length = len(mixture)\n",
    "\n",
    "step = 1600\n",
    "st = 0\n",
    "while st + step < length:\n",
    "    choice = np.random.choice([0,1,2,3], p=[1/8, 2/8, 2/8, 3/8])\n",
    "    print(choice)\n",
    "    mixture[st:st+step] = transformed_sources[-1][st:st+step]\n",
    "    choose = random.sample([0,1,2], choice)\n",
    "    for id in choose:\n",
    "        mixture[st:st+step] += transformed_sources[id][st:st+step]\n",
    "    st += step\n",
    "print(mixture)\n",
    "\n",
    "\n",
    "sf.write(\"temp.wav\", mixture, 16000)"
   ]
  },
  {
   "cell_type": "code",
   "execution_count": 5,
   "metadata": {},
   "outputs": [
    {
     "name": "stdout",
     "output_type": "stream",
     "text": [
      "[2 2 3]\n"
     ]
    }
   ],
   "source": [
    "import soundfile as sf\n",
    "import numpy as np\n",
    "\n",
    "p= np.load(\"/home/getsum/code/temp/data/LibriMix/wav16k/min/test/label/0dB_61-70968-0003_7021-79740-0011_4446-2275-0012_label.npy\")\n",
    "print(p)"
   ]
  }
 ],
 "metadata": {
  "kernelspec": {
   "display_name": "speech",
   "language": "python",
   "name": "python3"
  },
  "language_info": {
   "codemirror_mode": {
    "name": "ipython",
    "version": 3
   },
   "file_extension": ".py",
   "mimetype": "text/x-python",
   "name": "python",
   "nbconvert_exporter": "python",
   "pygments_lexer": "ipython3",
   "version": "3.10.14"
  }
 },
 "nbformat": 4,
 "nbformat_minor": 2
}
